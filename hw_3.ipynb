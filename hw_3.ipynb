{
 "cells": [
  {
   "metadata": {},
   "cell_type": "markdown",
   "source": [
    "## Третье ДЗ\n",
    "### Sentiment Analysis финансовых новостей. Пример: есть текст, мы хотим узнать как он влияет на цену актива\n",
    "\n",
    "1. **Подготовка данных**\n",
    "   -  Исходный CSV-файл `news_for_hw.csv` 40к текстов разной длины связанных с золотом:\n",
    "     - `text` — текст новости\n",
    "     - `sentiment` — метка (`негативный`, `нейтральный`, `позитивный`)\n",
    "     - `confidence` — уверенность в метке.\n",
    "   - разметка текста при помощи https://huggingface.co/MoritzLaurer/mDeBERTa-v3-base-mnli-xnli\n",
    "\n",
    "   - Преобразовали текстовые метки в числовые (`0`, `1`, `2`).\n",
    "\n",
    "2. **Fine-tuning модели**\n",
    "   - Взяли предобученную модель **ProsusAI/finbert** из Hugging Face.\n",
    "   - Сконвертировали `DataFrame` в `datasets.DatasetDict` с разделением на `train`/`test`.\n",
    "   - Провели токенизацию текстов (`max_length=512`, `padding=\"max_length\"`).\n",
    "   - Настроили `Trainer` с метриками (`accuracy`, `precision`, `recall`, `f1`) и стратегией оценки по эпохам.\n",
    "\n",
    "3. **Оценка качества**\n",
    "   - Получили финальные метрики на тестовом наборе:\n",
    "      - Epoch\tTraining Loss\tValidation Loss\tAccuracy\tPrecision\tRecall\tF1\n",
    "        - 1\t0.880800\t0.864374\t0.601892\t0.651298\t0.601892\t0.567768\n",
    "        - 2\t0.862000\t0.863082\t0.601425\t0.644012\t0.601425\t0.556303\n",
    "        - 3\t0.826000\t0.864676\t0.612869\t0.678293\t0.612869\t0.585044\n",
    "\n",
    "4. **Inference / применение**\n",
    "   - Создаем `pipeline(\"sentiment-analysis\")`, передаем произвольные тексты и получили предсказанные метки + confidence-скоры.\n",
    "\n",
    "\n"
   ],
   "id": "d964babfcebdbbcb"
  },
  {
   "cell_type": "code",
   "execution_count": 6,
   "id": "c78c83c5e303efa8",
   "metadata": {
    "ExecuteTime": {
     "start_time": "2025-05-25T19:10:56.076271Z"
    },
    "jupyter": {
     "is_executing": true
    }
   },
   "outputs": [
    {
     "name": "stderr",
     "output_type": "stream",
     "text": [
      "Map: 100%|██████████| 34250/34250 [00:58<00:00, 587.13 examples/s]\n",
      "Map: 100%|██████████| 8563/8563 [00:15<00:00, 541.55 examples/s]\n"
     ]
    },
    {
     "data": {
      "text/html": [
       "\n",
       "    <div>\n",
       "      \n",
       "      <progress value='12846' max='12846' style='width:300px; height:20px; vertical-align: middle;'></progress>\n",
       "      [12846/12846 36:40, Epoch 3/3]\n",
       "    </div>\n",
       "    <table border=\"1\" class=\"dataframe\">\n",
       "  <thead>\n",
       " <tr style=\"text-align: left;\">\n",
       "      <th>Epoch</th>\n",
       "      <th>Training Loss</th>\n",
       "      <th>Validation Loss</th>\n",
       "      <th>Accuracy</th>\n",
       "      <th>Precision</th>\n",
       "      <th>Recall</th>\n",
       "      <th>F1</th>\n",
       "    </tr>\n",
       "  </thead>\n",
       "  <tbody>\n",
       "    <tr>\n",
       "      <td>1</td>\n",
       "      <td>0.880800</td>\n",
       "      <td>0.864374</td>\n",
       "      <td>0.601892</td>\n",
       "      <td>0.651298</td>\n",
       "      <td>0.601892</td>\n",
       "      <td>0.567768</td>\n",
       "    </tr>\n",
       "    <tr>\n",
       "      <td>2</td>\n",
       "      <td>0.862000</td>\n",
       "      <td>0.863082</td>\n",
       "      <td>0.601425</td>\n",
       "      <td>0.644012</td>\n",
       "      <td>0.601425</td>\n",
       "      <td>0.556303</td>\n",
       "    </tr>\n",
       "    <tr>\n",
       "      <td>3</td>\n",
       "      <td>0.826000</td>\n",
       "      <td>0.864676</td>\n",
       "      <td>0.612869</td>\n",
       "      <td>0.678293</td>\n",
       "      <td>0.612869</td>\n",
       "      <td>0.585044</td>\n",
       "    </tr>\n",
       "  </tbody>\n",
       "</table><p>"
      ],
      "text/plain": [
       "<IPython.core.display.HTML object>"
      ]
     },
     "metadata": {},
     "output_type": "display_data"
    },
    {
     "data": {
      "text/html": [],
      "text/plain": [
       "<IPython.core.display.HTML object>"
      ]
     },
     "metadata": {},
     "output_type": "display_data"
    },
    {
     "name": "stdout",
     "output_type": "stream",
     "text": [
      "### Eval metrics: {'eval_loss': 0.8646763563156128, 'eval_accuracy': 0.6128693214994745, 'eval_precision': 0.678292648814983, 'eval_recall': 0.6128693214994745, 'eval_f1': 0.585043615253853, 'eval_runtime': 38.3353, 'eval_samples_per_second': 223.371, 'eval_steps_per_second': 13.982, 'epoch': 3.0}\n",
      "\n",
      "### Sample predictions:\n",
      "                                                                                                                                                                                                                                                                                                                                                                                                                                                                                                                                                                                                                                                                                                                                                                                                                                                                                                                                                                                                                                  text   sentiment  predicted\n",
      "                                                                                                                                                                                                                                                                                                                                                                                                                                                                                                                                                                                                                                                                                                                                                                                                                                                                                                                                               @oilgasofficial1 httpswwwyoutubecomwatchv7JSN25Elynw 0 ReactionEmoji(emoticon='__'): 44  негативный негативный\n",
      "                                                                                                                                                                                                                                                                                                                                                                                                                                                                                                                                                                                                                                                                                                                                                                                                                                                                                                                                                                                                                            @zmd_ru 0   позитивный позитивный\n",
      "                                                                                                                                                                                                                                                                                                                                                                                                                                                                                                                                                                                                                     @Needlnvest Белоусов причин для ужесточения ДКП сейчас не просматривается 16 июня FINMARKETRU - Переноса ослабления рубля в инфляцию пока не наблюдается рост цен по итогам 2023 года может оказаться ниже текущего прогноза правительства в 53 причин для ужесточения ДКП сейчас не просматривается заявил первый вице-премьер РФ Андрей Белоусов журналистам в кулуарах ПМЭФ 0 ReactionEmoji(emoticon='_'): 127 нейтральный негативный\n",
      "                                                                                                                                                                                                                                                                                                                                                                                                                                                                                                                                                                                                                                                                                                                                                                                                                                                                                                                                               2023-12-31 gvgold_ru Новый 2024 год наступил в Иркутске и Бодайбо Поздравляем Ура 0 64   позитивный позитивный\n",
      "2021-06-15 pao_polyus В Бодайбинской городской больнице установили новый томограф который приобрели на средства Полюса Поддержка социальной инфраструктуры регионов присутствия  важная задача для компании и мы планомерно помогаем Бодайбинской городской больнице Ранее она уже получила рентгенографический аппарат анализатор свертывания крови кислородный концентратор наркозно-дыхательный аппарат для отделения реанимации фетальный монитор для роддома видеоэндоскопическую систему и другое оборудование Все для того чтобы жители Бодайбо могли получать качественную медицинскую помощь дома а не ездить за ней в Иркутск Бодайбинская больница - лишь одно из медучреждений которым помогает Полюс В прошлом году в рамках противодействия пандемии коронавируса мы передали больницам в регионах присутствия аппараты ИВЛ и целый ряд другого оборудования Сейчас эпидемиологическая ситуация спокойнее но новая медицинская техника помогает местным врачам лучше заботиться о своих пациентах и в мирное время 3 48   позитивный позитивный\n"
     ]
    }
   ],
   "source": [
    "# # Fine-tune ProsusAI/finbert\n",
    "import torch\n",
    "import pandas as pd\n",
    "from sklearn.model_selection import train_test_split\n",
    "from datasets import Dataset, DatasetDict\n",
    "from transformers import (\n",
    "    AutoTokenizer,\n",
    "    AutoModelForSequenceClassification,\n",
    "    Trainer,\n",
    "    TrainingArguments\n",
    ")\n",
    "import numpy as np\n",
    "from sklearn.metrics import accuracy_score, precision_recall_fscore_support\n",
    "\n",
    "\n",
    "df = pd.read_csv(\"news_for_hw.csv\")  #  text, sentiment, confidence\n",
    "label2id = {'негативный':0, 'нейтральный':1, 'позитивный':2}\n",
    "df['label'] = df['sentiment'].map(label2id)\n",
    "train_df, test_df = train_test_split(df, test_size=0.2, stratify=df['label'], random_state=42)\n",
    "def to_hf(ds):\n",
    "    return Dataset.from_pandas(ds[['text','label']].reset_index(drop=True))\n",
    "\n",
    "dataset = DatasetDict({\n",
    "    'train': to_hf(train_df),\n",
    "    'test':  to_hf(test_df)\n",
    "})\n",
    "\n",
    "\n",
    "MODEL = 'ProsusAI/finbert'\n",
    "tokenizer = AutoTokenizer.from_pretrained(MODEL)\n",
    "\n",
    "def tokenize_fn(batch):\n",
    "    return tokenizer(batch['text'], padding='max_length', truncation=True, max_length=512)\n",
    "\n",
    "dataset = dataset.map(tokenize_fn, batched=True)\n",
    "dataset = dataset.remove_columns(['text'])\n",
    "dataset.set_format('torch')\n",
    "\n",
    "\n",
    "model = AutoModelForSequenceClassification.from_pretrained(MODEL, num_labels=3)\n",
    "\n",
    "def compute_metrics(p):\n",
    "    preds = np.argmax(p.predictions, axis=1)\n",
    "    labels = p.label_ids\n",
    "    prec, rec, f1, _ = precision_recall_fscore_support(labels, preds, average='weighted')\n",
    "    return {\n",
    "        'accuracy': accuracy_score(labels, preds),\n",
    "        'precision': prec,\n",
    "        'recall': rec,\n",
    "        'f1': f1\n",
    "    }\n",
    "\n",
    "training_args = TrainingArguments(\n",
    "    output_dir='./out',\n",
    "    num_train_epochs=3,\n",
    "    per_device_train_batch_size=8,\n",
    "    per_device_eval_batch_size=16,\n",
    "    eval_strategy='epoch',\n",
    "    logging_steps=50,\n",
    "    save_strategy='no',\n",
    "    no_cuda=not use_cuda,\n",
    "    fp16=use_cuda\n",
    ")\n",
    "\n",
    "trainer = Trainer(\n",
    "    model=model.to(device),\n",
    "    args=training_args,\n",
    "    train_dataset=dataset['train'],\n",
    "    eval_dataset=dataset['test'],\n",
    "    compute_metrics=compute_metrics\n",
    ")\n",
    "\n",
    "\n",
    "trainer.train()\n",
    "metrics = trainer.evaluate()\n",
    "print(\"### Eval metrics:\", metrics)\n",
    "\n",
    "preds_output = trainer.predict(dataset['test'])\n",
    "preds = np.argmax(preds_output.predictions, axis=1)\n",
    "\n",
    "sample = test_df.reset_index(drop=True).loc[:4, ['text','sentiment']].copy()\n",
    "sample['predicted'] = [ {0:'негативный',1:'нейтральный',2:'позитивный'}[i] for i in preds[:5] ]\n",
    "print(\"\\n### Sample predictions:\")\n",
    "print(sample.to_string(index=False))"
   ]
  },
  {
   "cell_type": "code",
   "execution_count": 8,
   "id": "951a9d45cd3fc998",
   "metadata": {},
   "outputs": [
    {
     "name": "stderr",
     "output_type": "stream",
     "text": [
      "Device set to use cuda:0\n"
     ]
    },
    {
     "name": "stdout",
     "output_type": "stream",
     "text": [
      "\"Золото не изменилось. Ничего не делай\" → neutral (score: 0.617)\n"
     ]
    }
   ],
   "source": [
    "from transformers import pipeline\n",
    "sent_pipe = pipeline(\n",
    "    \"sentiment-analysis\",\n",
    "    model=trainer.model, \n",
    "    tokenizer=tokenizer,\n",
    "    device=0 if torch.cuda.is_available() else -1)\n",
    "\n",
    "my_texts = [\n",
    "    \"Золото не изменилось. Ничего не делай\"]\n",
    "\n",
    "results = sent_pipe(my_texts)\n",
    "for text, res in zip(my_texts, results):\n",
    "    print(f\"\\\"{text}\\\" → {res['label']} (score: {res['score']:.3f})\")\n"
   ]
  }
 ],
 "metadata": {
  "kernelspec": {
   "display_name": "ta-patterns",
   "language": "python",
   "name": "python3"
  },
  "language_info": {
   "codemirror_mode": {
    "name": "ipython",
    "version": 3
   },
   "file_extension": ".py",
   "mimetype": "text/x-python",
   "name": "python",
   "nbconvert_exporter": "python",
   "pygments_lexer": "ipython3",
   "version": "3.9.21"
  }
 },
 "nbformat": 4,
 "nbformat_minor": 5
}
